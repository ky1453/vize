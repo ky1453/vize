{
 "cells": [
  {
   "cell_type": "code",
   "execution_count": null,
   "id": "a5f48251",
   "metadata": {},
   "outputs": [],
   "source": [
    "import math\n",
    "import numpy as np\n",
    "import matplotlib.pyplot as plt\n",
    "import matplotlib.patches as patches"
   ]
  },
  {
   "cell_type": "code",
   "execution_count": null,
   "id": "b8f04a2f",
   "metadata": {
    "lines_to_next_cell": 1
   },
   "outputs": [],
   "source": [
    "yerçekimi = 9.8"
   ]
  },
  {
   "cell_type": "code",
   "execution_count": null,
   "id": "7b78852d",
   "metadata": {},
   "outputs": [],
   "source": [
    "def main():\n",
    "    mermi_max_hizi = 1800\n",
    "    mermi_min_hizi = 330\n",
    "    atis_acisi = 30\n",
    "    baslangic_yuksekligi = 6\n",
    "    hedef_mesafesi = 20000 + (200 * np.random.randint(-10, 10))\n",
    "    hedef_boyutu = 1000 + (100 * np.random.randint(-2, 2))\n",
    "    atis_denemeleri = 0\n",
    "    hedef_vuruldu = False\n",
    "\n",
    "    while not hedef_vuruldu:\n",
    "        mermi_hizi = (mermi_max_hizi + mermi_min_hizi) / 2\n",
    "        \n",
    "        x_ekseni_hizi = mermi_hizi * math.cos(math.radians(atis_acisi))\n",
    "        y_ekseni_hizi = mermi_hizi * math.sin(math.radians(atis_acisi))\n",
    "\n",
    "        mermi_uçuş_süresi = (2 * y_ekseni_hizi / yerçekimi) + 0.07\n",
    "        mermi_uçuş_mesafesi = x_ekseni_hizi * mermi_uçuş_süresi\n",
    "\n",
    "        if hedef_mesafesi <= mermi_uçuş_mesafesi <= hedef_mesafesi + hedef_boyutu:\n",
    "            hedef_vuruldu = True\n",
    "            print(\"Hedefe isabet!\")\n",
    "            print(\"Ateş edilen toplam mermi sayısı: \", atis_denemeleri)\n",
    "            print(\"Mermi hızı: \", mermi_hizi)\n",
    "            print(\"Mermi uçuş süresi: \", mermi_uçuş_süresi)\n",
    "            print(\"Mermi uçuş mesafesi: \", mermi_uçuş_mesafesi)\n",
    "            print(\"Hedef mesafesi: \", hedef_mesafesi)\n",
    "            break\n",
    "        else:\n",
    "            if hedef_mesafesi >= mermi_uçuş_mesafesi:\n",
    "                print(\"Mermi hedefin önüne düştü.\")\n",
    "                mermi_min_hizi = mermi_hizi\n",
    "            elif mermi_uçuş_mesafesi >= hedef_mesafesi + hedef_boyutu:\n",
    "                print(\"Mermi hedefin arkasına düştü.\")\n",
    "                mermi_max_hizi = mermi_hizi\n",
    "\n",
    "            atis_denemeleri += 1\n",
    "\n",
    "    t = np.linspace(0, mermi_uçuş_süresi, num=500)\n",
    "    x_top = x_ekseni_hizi * t\n",
    "    y_top = baslangic_yuksekligi + y_ekseni_hizi * t - 0.5 * yerçekimi * t ** 2\n",
    "    \n",
    "    fig, ax = plt.subplots()\n",
    "\n",
    "    ax.plot([0, mermi_uçuş_mesafesi], [baslangic_yuksekligi, baslangic_yuksekligi], 'b-', label='Atış Yolu')\n",
    "\n",
    "    \n",
    "    ax.plot(mermi_uçuş_mesafesi, baslangic_yuksekligi, 'ro', label='İsabet Noktası')\n",
    "\n",
    "   \n",
    "    ax.plot(x_top, y_top, 'g--', label='Topun Yolu')\n",
    "\n",
    "    plt.legend()\n",
    "    plt.xticks(range(0, int(hedef_mesafesi + hedef_boyutu + 5000) + 1, 2500))\n",
    "    plt.yticks(range(0, int(5000) + 1, 500))\n",
    "    plt.title('Eğik Atış Hareketi Grafiği')\n",
    "    plt.xlabel('Mesafe (metre)')\n",
    "    plt.ylabel('Yükseklik (metre)')\n",
    "    plt.grid(True)\n",
    "    plt.gca().set_aspect('equal', adjustable='box')\n",
    "    plt.show()"
   ]
  },
  {
   "cell_type": "code",
   "execution_count": null,
   "id": "88c2e957",
   "metadata": {},
   "outputs": [],
   "source": [
    "if __name__ == \"__main__\":\n",
    "    main()"
   ]
  }
 ],
 "metadata": {
  "jupytext": {
   "cell_metadata_filter": "-all",
   "main_language": "python",
   "notebook_metadata_filter": "-all"
  }
 },
 "nbformat": 4,
 "nbformat_minor": 5
}
