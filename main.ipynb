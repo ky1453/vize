{
 "cells": [
  {
   "cell_type": "code",
   "execution_count": null,
   "id": "d6381f5b",
   "metadata": {},
   "outputs": [],
   "source": [
    "import pandas as pd"
   ]
  },
  {
   "cell_type": "code",
   "execution_count": null,
   "id": "08708c13",
   "metadata": {},
   "outputs": [],
   "source": [
    "age_array = [15, 15, 16, 19, 19, 20, 20, 21, 22, 28, 35, 40, 41, 42, 43, 44, 60, 61, 65]\n",
    "c1 = 16\n",
    "c2 = 22"
   ]
  },
  {
   "cell_type": "code",
   "execution_count": null,
   "id": "b1b2bacf",
   "metadata": {},
   "outputs": [],
   "source": [
    "last_c1 = c1\n",
    "last_c2 = c2"
   ]
  },
  {
   "cell_type": "code",
   "execution_count": null,
   "id": "e12490f4",
   "metadata": {},
   "outputs": [],
   "source": [
    "for i in range(1, 5):\n",
    "    c1_sum = 0\n",
    "    c2_sum = 0\n",
    "    c1_elements = 0\n",
    "    c2_elements = 0\n",
    "\n",
    "    for age in age_array:\n",
    "        c1_distance = abs(age - last_c1)\n",
    "        c2_distance = abs(age - last_c2)\n",
    "        if c2_distance > c1_distance:\n",
    "            nearest_cluster = last_c1\n",
    "        elif c1_distance >= c2_distance:\n",
    "            nearest_cluster = last_c2\n",
    "\n",
    "        if nearest_cluster == last_c2:\n",
    "            c2_elements += 1\n",
    "            c2_sum += age\n",
    "        elif nearest_cluster == last_c1:\n",
    "            c1_elements += 1\n",
    "            c1_sum += age\n",
    "\n",
    "    c1 = c1_sum / c1_elements\n",
    "    c2 = c2_sum / c2_elements\n",
    "\n",
    "    cluster_labels = ['1' if abs(age - last_c1) < abs(age - last_c2) else '2' for age in age_array]\n",
    "    new_clusters = [c1 if label == '1' else c2 for label in cluster_labels]\n",
    "\n",
    "    data = {\n",
    "        'Xi': age_array,\n",
    "        'C1': [last_c1] * len(age_array),\n",
    "        'C2': [last_c2] * len(age_array),\n",
    "        'Distance 1': [abs(age - last_c1) for age in age_array],\n",
    "        'Distance 2': [abs(age - last_c2) for age in age_array],\n",
    "        'Nearest Cluster': cluster_labels,\n",
    "        'New Centroid': new_clusters\n",
    "    }\n",
    "\n",
    "    df = pd.DataFrame(data)\n",
    "\n",
    "    print(f\"Iteration {i}:\")\n",
    "    print(df)\n",
    "\n",
    "    last_c1 = c1\n",
    "    last_c2 = c2"
   ]
  }
 ],
 "metadata": {
  "jupytext": {
   "cell_metadata_filter": "-all",
   "main_language": "python",
   "notebook_metadata_filter": "-all"
  }
 },
 "nbformat": 4,
 "nbformat_minor": 5
}
